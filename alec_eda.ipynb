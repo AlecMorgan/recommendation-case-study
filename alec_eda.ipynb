{
 "cells": [
  {
   "cell_type": "code",
   "execution_count": 1,
   "metadata": {},
   "outputs": [],
   "source": [
    "import pyspark\n",
    "import pandas as pd\n",
    "import numpy as np"
   ]
  },
  {
   "cell_type": "code",
   "execution_count": 2,
   "metadata": {},
   "outputs": [],
   "source": [
    "spark = (pyspark.sql.SparkSession.builder\n",
    "         .master('local[*]')\n",
    "         .getOrCreate())"
   ]
  },
  {
   "cell_type": "code",
   "execution_count": 3,
   "metadata": {},
   "outputs": [
    {
     "name": "stdout",
     "output_type": "stream",
     "text": [
      "+--------+------+------------+-------+\n",
      "|movie_id|rating|   timestamp|user_id|\n",
      "+--------+------+------------+-------+\n",
      "|     858|     4|9.56678732E8|   6040|\n",
      "|    2384|     4|9.56678754E8|   6040|\n",
      "|     593|     5|9.56678754E8|   6040|\n",
      "|    1961|     4|9.56678777E8|   6040|\n",
      "|    1419|     3|9.56678856E8|   6040|\n",
      "|     213|     5|9.56678856E8|   6040|\n",
      "|    3111|     5|9.56678856E8|   6040|\n",
      "|     573|     4|9.56678856E8|   6040|\n",
      "|    3505|     4|9.56678856E8|   6040|\n",
      "|    1734|     2|9.56678881E8|   6040|\n",
      "+--------+------+------------+-------+\n",
      "only showing top 10 rows\n",
      "\n"
     ]
    }
   ],
   "source": [
    "ratings = spark.read.json('data/ratings.json')\n",
    "ratings.show(10)"
   ]
  },
  {
   "cell_type": "code",
   "execution_count": 4,
   "metadata": {},
   "outputs": [
    {
     "data": {
      "text/plain": [
       "Row(_c0='adult', _c1='belongs_to_collection', _c2='budget', _c3='genres', _c4='homepage', _c5='id', _c6='imdb_id', _c7='original_language', _c8='original_title', _c9='overview', _c10='popularity', _c11='poster_path', _c12='production_companies', _c13='production_countries', _c14='release_date', _c15='revenue', _c16='runtime', _c17='spoken_languages', _c18='status', _c19='tagline', _c20='title', _c21='video', _c22='vote_average', _c23='vote_count')"
      ]
     },
     "execution_count": 4,
     "metadata": {},
     "output_type": "execute_result"
    }
   ],
   "source": [
    "movies_metadata = spark.read.csv('data/movies_metadata.csv')\n",
    "movies_metadata.first()"
   ]
  },
  {
   "cell_type": "code",
   "execution_count": 5,
   "metadata": {},
   "outputs": [
    {
     "name": "stdout",
     "output_type": "stream",
     "text": [
      "+--------+------+------------+-------+\n",
      "|movie_id|rating|   timestamp|user_id|\n",
      "+--------+------+------------+-------+\n",
      "|    2019|   NaN|9.56678777E8|   6040|\n",
      "|     759|   NaN|9.56679248E8|   6040|\n",
      "|    2858|   NaN|9.56679275E8|   6040|\n",
      "|     246|   NaN|9.56679413E8|   6040|\n",
      "|    1617|   NaN|9.56679473E8|   6040|\n",
      "|    2324|   NaN|9.56679629E8|   6040|\n",
      "|    1089|   NaN|9.56679796E8|   6040|\n",
      "|    2804|   NaN|9.56680123E8|   6039|\n",
      "|     933|   NaN| 9.5668027E8|   6039|\n",
      "|    1304|   NaN|9.56680308E8|   6039|\n",
      "+--------+------+------------+-------+\n",
      "only showing top 10 rows\n",
      "\n"
     ]
    }
   ],
   "source": [
    "requests = spark.read.json('data/requests.json')\n",
    "requests.show(10)"
   ]
  },
  {
   "cell_type": "code",
   "execution_count": 11,
   "metadata": {},
   "outputs": [
    {
     "data": {
      "text/plain": [
       "Row(_c0=\"1::Toy Story (1995)::Animation|Children's|Comedy\")"
      ]
     },
     "execution_count": 11,
     "metadata": {},
     "output_type": "execute_result"
    }
   ],
   "source": [
    "movies = spark.read.csv('data/movies.dat')\n",
    "movies.first()"
   ]
  },
  {
   "cell_type": "code",
   "execution_count": 19,
   "metadata": {},
   "outputs": [
    {
     "name": "stdout",
     "output_type": "stream",
     "text": [
      "+------+------+---+----------+-----+\n",
      "|userID|gender|age|occupation|  zip|\n",
      "+------+------+---+----------+-----+\n",
      "|     1|     F|  1|        10|48067|\n",
      "|     2|     M| 56|        16|70072|\n",
      "|     3|     M| 25|        15|55117|\n",
      "|     4|     M| 45|         7|02460|\n",
      "|     5|     M| 25|        20|55455|\n",
      "|     6|     F| 50|         9|55117|\n",
      "|     7|     M| 35|         1|06810|\n",
      "|     8|     M| 25|        12|11413|\n",
      "|     9|     M| 25|        17|61614|\n",
      "|    10|     F| 35|         1|95370|\n",
      "+------+------+---+----------+-----+\n",
      "only showing top 10 rows\n",
      "\n"
     ]
    }
   ],
   "source": [
    "users = (spark.read.load(\"data/users.dat\", format=\"csv\", sep=\":\", inferSchema=\"true\").drop('_c1', '_c3', '_c5', '_c7'))\n",
    "users = (users\n",
    "         .withColumnRenamed(users.schema.names[0], 'userID')\n",
    "         .withColumnRenamed(users.schema.names[1], 'gender')\n",
    "         .withColumnRenamed(users.schema.names[2], 'age')\n",
    "         .withColumnRenamed(users.schema.names[3], 'occupation')\n",
    "         .withColumnRenamed(users.schema.names[4], 'zip'))\n",
    "users.show(10)"
   ]
  },
  {
   "cell_type": "code",
   "execution_count": 22,
   "metadata": {},
   "outputs": [
    {
     "name": "stdout",
     "output_type": "stream",
     "text": [
      "<class 'pandas.core.frame.DataFrame'>\n",
      "RangeIndex: 6040 entries, 0 to 6039\n",
      "Data columns (total 5 columns):\n",
      "userID        6040 non-null int32\n",
      "gender        6040 non-null object\n",
      "age           6040 non-null int32\n",
      "occupation    6040 non-null int32\n",
      "zip           6040 non-null object\n",
      "dtypes: int32(3), object(2)\n",
      "memory usage: 165.2+ KB\n"
     ]
    }
   ],
   "source": [
    "users.info()"
   ]
  },
  {
   "cell_type": "code",
   "execution_count": 25,
   "metadata": {},
   "outputs": [
    {
     "data": {
      "text/plain": [
       "'01111'"
      ]
     },
     "execution_count": 25,
     "metadata": {},
     "output_type": "execute_result"
    }
   ],
   "source": [
    "symmetrify = lambda x: '00000'[len(x):] + x\n",
    "symmetrify('1111')"
   ]
  },
  {
   "cell_type": "code",
   "execution_count": 20,
   "metadata": {},
   "outputs": [],
   "source": [
    "users = users.toPandas()"
   ]
  },
  {
   "cell_type": "code",
   "execution_count": 21,
   "metadata": {},
   "outputs": [
    {
     "name": "stdout",
     "output_type": "stream",
     "text": [
      "USERID:\n",
      "2047    1\n",
      "2724    1\n",
      "2712    1\n",
      "665     1\n",
      "4763    1\n",
      "2716    1\n",
      "669     1\n",
      "4767    1\n",
      "2720    1\n",
      "673     1\n",
      "4771    1\n",
      "677     1\n",
      "661     1\n",
      "4775    1\n",
      "2728    1\n",
      "681     1\n",
      "4779    1\n",
      "2732    1\n",
      "685     1\n",
      "4783    1\n",
      "2736    1\n",
      "689     1\n",
      "4759    1\n",
      "2708    1\n",
      "4851    1\n",
      "2692    1\n",
      "2680    1\n",
      "633     1\n",
      "4731    1\n",
      "2684    1\n",
      "       ..\n",
      "3423    1\n",
      "5472    1\n",
      "1378    1\n",
      "3427    1\n",
      "5476    1\n",
      "1382    1\n",
      "3403    1\n",
      "1354    1\n",
      "5448    1\n",
      "3399    1\n",
      "1326    1\n",
      "3375    1\n",
      "5424    1\n",
      "1330    1\n",
      "3379    1\n",
      "5428    1\n",
      "1334    1\n",
      "3383    1\n",
      "5432    1\n",
      "1338    1\n",
      "3387    1\n",
      "5436    1\n",
      "1342    1\n",
      "3391    1\n",
      "5440    1\n",
      "1346    1\n",
      "3395    1\n",
      "5444    1\n",
      "1350    1\n",
      "2049    1\n",
      "Name: userID, Length: 6040, dtype: int64\n",
      "\n",
      "GENDER:\n",
      "M    4331\n",
      "F    1709\n",
      "Name: gender, dtype: int64\n",
      "\n",
      "AGE:\n",
      "25    2096\n",
      "35    1193\n",
      "18    1103\n",
      "45     550\n",
      "50     496\n",
      "56     380\n",
      "1      222\n",
      "Name: age, dtype: int64\n",
      "\n",
      "OCCUPATION:\n",
      "4     759\n",
      "0     711\n",
      "7     679\n",
      "1     528\n",
      "17    502\n",
      "12    388\n",
      "14    302\n",
      "20    281\n",
      "2     267\n",
      "16    241\n",
      "6     236\n",
      "10    195\n",
      "3     173\n",
      "15    144\n",
      "13    142\n",
      "11    129\n",
      "5     112\n",
      "9      92\n",
      "19     72\n",
      "18     70\n",
      "8      17\n",
      "Name: occupation, dtype: int64\n",
      "\n",
      "ZIP:\n",
      "48104         19\n",
      "22903         18\n",
      "55104         17\n",
      "94110         17\n",
      "55455         16\n",
      "55105         16\n",
      "10025         16\n",
      "55408         15\n",
      "94114         15\n",
      "02138         15\n",
      "90024         14\n",
      "94117         14\n",
      "98103         14\n",
      "48103         13\n",
      "90210         13\n",
      "37922         13\n",
      "10016         13\n",
      "60640         13\n",
      "55406         12\n",
      "10003         11\n",
      "48105         11\n",
      "02139         11\n",
      "55405         11\n",
      "55113         11\n",
      "55112         10\n",
      "02143         10\n",
      "60657         10\n",
      "55116         10\n",
      "10011         10\n",
      "10021         10\n",
      "              ..\n",
      "48133          1\n",
      "95776          1\n",
      "55101          1\n",
      "79401          1\n",
      "48371          1\n",
      "53048          1\n",
      "12740          1\n",
      "62263-3004     1\n",
      "01801          1\n",
      "54302          1\n",
      "02356          1\n",
      "11510-2001     1\n",
      "91103          1\n",
      "32224          1\n",
      "36092          1\n",
      "98498          1\n",
      "12230          1\n",
      "44221          1\n",
      "55435          1\n",
      "91320          1\n",
      "18049          1\n",
      "92354          1\n",
      "43056          1\n",
      "12184          1\n",
      "21013          1\n",
      "01607          1\n",
      "97146          1\n",
      "60504          1\n",
      "07663          1\n",
      "91304          1\n",
      "Name: zip, Length: 3439, dtype: int64\n",
      "\n"
     ]
    }
   ],
   "source": [
    "for col in users.columns:\n",
    "    print(f'{col.upper()}:')\n",
    "    print(users[col].value_counts())\n",
    "    print()"
   ]
  },
  {
   "cell_type": "code",
   "execution_count": null,
   "metadata": {},
   "outputs": [],
   "source": []
  }
 ],
 "metadata": {
  "kernelspec": {
   "display_name": "Python 3",
   "language": "python",
   "name": "python3"
  },
  "language_info": {
   "codemirror_mode": {
    "name": "ipython",
    "version": 3
   },
   "file_extension": ".py",
   "mimetype": "text/x-python",
   "name": "python",
   "nbconvert_exporter": "python",
   "pygments_lexer": "ipython3",
   "version": "3.7.1"
  }
 },
 "nbformat": 4,
 "nbformat_minor": 2
}
