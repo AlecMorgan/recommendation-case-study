{
 "cells": [
  {
   "cell_type": "code",
   "execution_count": 2,
   "metadata": {},
   "outputs": [],
   "source": [
    "import pyspark\n",
    "import pandas as pd\n",
    "import numpy as np\n",
    "from sklearn.preprocessing import OneHotEncoder\n",
    "from sklearn.preprocessing import LabelBinarizer\n",
    "from sklearn.model_selection import train_test_split\n",
    "import tensorflow as tf"
   ]
  },
  {
   "cell_type": "code",
   "execution_count": 3,
   "metadata": {},
   "outputs": [],
   "source": [
    "spark = pyspark.sql.SparkSession.builder.master(\"local\").getOrCreate()\n",
    "\n",
    "ratings = spark.read.json('data/ratings.json')\n",
    "#requests = spark.read.json('data/requests.json')"
   ]
  },
  {
   "cell_type": "code",
   "execution_count": 4,
   "metadata": {},
   "outputs": [
    {
     "name": "stdout",
     "output_type": "stream",
     "text": [
      "+--------+------+------------+-------+\n",
      "|movie_id|rating|   timestamp|user_id|\n",
      "+--------+------+------------+-------+\n",
      "|     858|     4|9.56678732E8|   6040|\n",
      "|    2384|     4|9.56678754E8|   6040|\n",
      "|     593|     5|9.56678754E8|   6040|\n",
      "|    1961|     4|9.56678777E8|   6040|\n",
      "|    1419|     3|9.56678856E8|   6040|\n",
      "|     213|     5|9.56678856E8|   6040|\n",
      "|    3111|     5|9.56678856E8|   6040|\n",
      "|     573|     4|9.56678856E8|   6040|\n",
      "|    3505|     4|9.56678856E8|   6040|\n",
      "|    1734|     2|9.56678881E8|   6040|\n",
      "+--------+------+------------+-------+\n",
      "only showing top 10 rows\n",
      "\n"
     ]
    }
   ],
   "source": [
    "ratings.show(10)"
   ]
  },
  {
   "cell_type": "code",
   "execution_count": 5,
   "metadata": {},
   "outputs": [],
   "source": [
    "users = spark.read.load(\"data/users.dat\",\n",
    "     format=\"csv\", sep=\":\", inferSchema=\"true\").drop('_c1', '_c3', '_c5', '_c7')\n",
    "\n",
    "users = (users.withColumnRenamed(users.schema.names[0], 'user_id')\n",
    "              .withColumnRenamed(users.schema.names[1], 'gender')\n",
    "              .withColumnRenamed(users.schema.names[2], 'age')\n",
    "              .withColumnRenamed(users.schema.names[3], 'occupation')\n",
    "              .withColumnRenamed(users.schema.names[4], 'zip'))"
   ]
  },
  {
   "cell_type": "code",
   "execution_count": 6,
   "metadata": {},
   "outputs": [
    {
     "name": "stdout",
     "output_type": "stream",
     "text": [
      "+-------+------+---+----------+-----+\n",
      "|user_id|gender|age|occupation|  zip|\n",
      "+-------+------+---+----------+-----+\n",
      "|      1|     F|  1|        10|48067|\n",
      "|      2|     M| 56|        16|70072|\n",
      "|      3|     M| 25|        15|55117|\n",
      "|      4|     M| 45|         7|02460|\n",
      "|      5|     M| 25|        20|55455|\n",
      "|      6|     F| 50|         9|55117|\n",
      "|      7|     M| 35|         1|06810|\n",
      "|      8|     M| 25|        12|11413|\n",
      "|      9|     M| 25|        17|61614|\n",
      "|     10|     F| 35|         1|95370|\n",
      "+-------+------+---+----------+-----+\n",
      "only showing top 10 rows\n",
      "\n"
     ]
    }
   ],
   "source": [
    "users.show(10)"
   ]
  },
  {
   "cell_type": "code",
   "execution_count": null,
   "metadata": {},
   "outputs": [],
   "source": [
    "# Alternate strategy\n",
    "# with open('data/users.dat') as f:\n",
    "#     with open('data/users.csv', 'w') as f2:\n",
    "#         f2.write('user_id, sex, age, occupation, zip\\n')\n",
    "#         for line in f:\n",
    "#             f2.write(line.replace('::', ','))\n",
    "            \n",
    "# users = spark.read.csv('data/users.csv', header=True)\n",
    "# users.show(10)"
   ]
  },
  {
   "cell_type": "code",
   "execution_count": 32,
   "metadata": {},
   "outputs": [],
   "source": [
    "df_raw = users.join(ratings, 'user_id', 'inner').select('gender', 'age', 'occupation', 'zip', 'movie_id', 'rating').toPandas()\n",
    "df = df_raw.copy()"
   ]
  },
  {
   "cell_type": "code",
   "execution_count": 33,
   "metadata": {},
   "outputs": [],
   "source": [
    "n = 2\n",
    "df['zip'] = df_raw['zip'].map(lambda x: str('0'*n)[len(x[:n]):] + x[:n] + 'x' * (5-n))\n",
    "df['gender'] = df_raw['gender'].map({'M':0, 'F':1})\n",
    "df['age'] = df_raw['age'].map({1:15, 18:21, 25:30, 35:40, 45:47, 50:53, 56:65})\n",
    "\n",
    "ohe = OneHotEncoder(sparse=False)\n",
    "np_ohe = ohe.fit_transform(df[['zip']])"
   ]
  },
  {
   "cell_type": "code",
   "execution_count": 34,
   "metadata": {},
   "outputs": [],
   "source": [
    "np_df = np.array(df.drop('zip', axis=1))\n",
    "np_final = np.column_stack((np_df, np_ohe))\n",
    "ohe_labels = ['zip' + s[s.find('_'):] for s in ohe.get_feature_names()]\n",
    "col_names = list(df.columns.drop('zip')) + ohe_labels\n",
    "df_final = pd.DataFrame(np_final, columns=col_names)"
   ]
  },
  {
   "cell_type": "code",
   "execution_count": 35,
   "metadata": {},
   "outputs": [],
   "source": [
    "from sklearn.ensemble import RandomForestClassifier, GradientBoostingClassifier, BaggingClassifier"
   ]
  },
  {
   "cell_type": "code",
   "execution_count": 36,
   "metadata": {},
   "outputs": [],
   "source": [
    "forest = RandomForestClassifier(n_estimators=10, n_jobs=-1)"
   ]
  },
  {
   "cell_type": "code",
   "execution_count": 37,
   "metadata": {},
   "outputs": [],
   "source": [
    "X_train, X_test, y_train, y_test = train_test_split(\n",
    "    df_final.drop('rating', axis=1), \n",
    "    df_final['rating'],\n",
    "    train_size=.1\n",
    ")"
   ]
  },
  {
   "cell_type": "code",
   "execution_count": 40,
   "metadata": {},
   "outputs": [
    {
     "data": {
      "text/plain": [
       "RandomForestClassifier(bootstrap=True, class_weight=None, criterion='gini',\n",
       "                       max_depth=None, max_features='auto', max_leaf_nodes=None,\n",
       "                       min_impurity_decrease=0.0, min_impurity_split=None,\n",
       "                       min_samples_leaf=1, min_samples_split=2,\n",
       "                       min_weight_fraction_leaf=0.0, n_estimators=10, n_jobs=-1,\n",
       "                       oob_score=False, random_state=None, verbose=0,\n",
       "                       warm_start=False)"
      ]
     },
     "execution_count": 40,
     "metadata": {},
     "output_type": "execute_result"
    }
   ],
   "source": [
    "forest.fit(X_train, y_train)"
   ]
  },
  {
   "cell_type": "code",
   "execution_count": null,
   "metadata": {},
   "outputs": [],
   "source": []
  },
  {
   "cell_type": "code",
   "execution_count": 43,
   "metadata": {},
   "outputs": [
    {
     "name": "stdout",
     "output_type": "stream",
     "text": [
      "0.951537628135678 is the training score\n"
     ]
    },
    {
     "data": {
      "text/plain": [
       "0.31170220154177375"
      ]
     },
     "execution_count": 43,
     "metadata": {},
     "output_type": "execute_result"
    }
   ],
   "source": [
    "print(forest.score(X_train, y_train), 'is the training score')\n",
    "forest.score(X_test, y_test)"
   ]
  },
  {
   "cell_type": "code",
   "execution_count": null,
   "metadata": {},
   "outputs": [],
   "source": []
  }
 ],
 "metadata": {
  "kernelspec": {
   "display_name": "learn-env",
   "language": "python",
   "name": "learn-env"
  },
  "language_info": {
   "codemirror_mode": {
    "name": "ipython",
    "version": 3
   },
   "file_extension": ".py",
   "mimetype": "text/x-python",
   "name": "python",
   "nbconvert_exporter": "python",
   "pygments_lexer": "ipython3",
   "version": "3.7.3"
  }
 },
 "nbformat": 4,
 "nbformat_minor": 2
}
